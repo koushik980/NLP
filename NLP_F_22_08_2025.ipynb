{
  "nbformat": 4,
  "nbformat_minor": 0,
  "metadata": {
    "colab": {
      "provenance": [],
      "authorship_tag": "ABX9TyONW0T/5R8eR/WyFXWMNji2",
      "include_colab_link": true
    },
    "kernelspec": {
      "name": "python3",
      "display_name": "Python 3"
    },
    "language_info": {
      "name": "python"
    }
  },
  "cells": [
    {
      "cell_type": "markdown",
      "metadata": {
        "id": "view-in-github",
        "colab_type": "text"
      },
      "source": [
        "<a href=\"https://colab.research.google.com/github/koushik980/NLP/blob/main/NLP_F_22_08_2025.ipynb\" target=\"_parent\"><img src=\"https://colab.research.google.com/assets/colab-badge.svg\" alt=\"Open In Colab\"/></a>"
      ]
    },
    {
      "cell_type": "code",
      "execution_count": 2,
      "metadata": {
        "colab": {
          "base_uri": "https://localhost:8080/"
        },
        "id": "ebULihgkD9kx",
        "outputId": "d9b7e484-bf69-472a-f758-96ac27e6cbf6"
      },
      "outputs": [
        {
          "output_type": "stream",
          "name": "stdout",
          "text": [
            "\n",
            "--- Sentence 1: 'first trust dow jones internet' ---\n",
            "Token                POS Tag    Dependency     \n",
            "---------------------------------------------\n",
            "first                PROPN      compound       \n",
            "trust                PROPN      compound       \n",
            "dow                  PROPN      compound       \n",
            "jones                PROPN      compound       \n",
            "internet             PROPN      ROOT           \n",
            "\n",
            "Nouns: []\n",
            "Verbs: []\n",
            "Adjectives: []\n",
            "\n",
            "--- Sentence 2: 'schwab intl large company index etf' ---\n",
            "Token                POS Tag    Dependency     \n",
            "---------------------------------------------\n",
            "schwab               PROPN      nmod           \n",
            "intl                 PROPN      ROOT           \n",
            "large                ADJ        amod           \n",
            "company              NOUN       compound       \n",
            "index                NOUN       compound       \n",
            "etf                  NOUN       appos          \n",
            "\n",
            "Nouns: ['company', 'index', 'etf']\n",
            "Verbs: []\n",
            "Adjectives: ['large']\n",
            "\n",
            "--- Sentence 3: 'vanguard small cap index adm' ---\n",
            "Token                POS Tag    Dependency     \n",
            "---------------------------------------------\n",
            "vanguard             PROPN      compound       \n",
            "small                PROPN      compound       \n",
            "cap                  PROPN      compound       \n",
            "index                NOUN       ROOT           \n",
            "adm                  PROPN      appos          \n",
            "\n",
            "Nouns: ['index']\n",
            "Verbs: []\n",
            "Adjectives: []\n",
            "\n",
            "--- Sentence 4: 'duke energy corp new com new isin #us4 sedol #b7jzsk0' ---\n",
            "Token                POS Tag    Dependency     \n",
            "---------------------------------------------\n",
            "duke                 PROPN      compound       \n",
            "energy               PROPN      compound       \n",
            "corp                 PROPN      nsubj          \n",
            "new                  PROPN      nmod           \n",
            "com                  NOUN       nmod           \n",
            "new                  ADJ        amod           \n",
            "isin                 NOUN       compound       \n",
            "#                    SYM        punct          \n",
            "us4                  PROPN      compound       \n",
            "sedol                NOUN       ROOT           \n",
            "#                    SYM        appos          \n",
            "b7jzsk0              PROPN      appos          \n",
            "\n",
            "Nouns: ['com', 'isin', 'sedol']\n",
            "Verbs: []\n",
            "Adjectives: ['new']\n",
            "\n",
            "--- Sentence 5: 'visa inc class a' ---\n",
            "Token                POS Tag    Dependency     \n",
            "---------------------------------------------\n",
            "visa                 PROPN      compound       \n",
            "inc                  PROPN      compound       \n",
            "class                PROPN      ROOT           \n",
            "a                    PROPN      appos          \n",
            "\n",
            "Nouns: []\n",
            "Verbs: []\n",
            "Adjectives: []\n"
          ]
        }
      ],
      "source": [
        "import pandas as pd\n",
        "import spacy\n",
        "\n",
        "# Load the dataset\n",
        "df = pd.read_csv('train.csv')\n",
        "\n",
        "# Load the spaCy model\n",
        "# If you don't have it, run this in your terminal:\n",
        "# python -m spacy download en_core_web_sm\n",
        "nlp = spacy.load('en_core_web_sm')\n",
        "\n",
        "# Get the first 5 text entries\n",
        "sample_texts = df['description_x'].head().tolist()\n",
        "\n",
        "# Process each text entry\n",
        "for i, text in enumerate(sample_texts):\n",
        "    print(f\"\\n--- Sentence {i+1}: '{text}' ---\")\n",
        "    doc = nlp(text)\n",
        "\n",
        "    # Prepare lists to hold the parts of speech\n",
        "    nouns = []\n",
        "    verbs = []\n",
        "    adjectives = []\n",
        "\n",
        "    print(f\"{'Token':<20} {'POS Tag':<10} {'Dependency':<15}\")\n",
        "    print(\"-\" * 45)\n",
        "\n",
        "    # Extract and print token details\n",
        "    for token in doc:\n",
        "        print(f\"{token.text:<20} {token.pos_:<10} {token.dep_:<15}\")\n",
        "        if token.pos_ == 'NOUN':\n",
        "            nouns.append(token.text)\n",
        "        elif token.pos_ == 'VERB':\n",
        "            verbs.append(token.text)\n",
        "        elif token.pos_ == 'ADJ':\n",
        "            adjectives.append(token.text)\n",
        "\n",
        "    # Print the extracted parts of speech\n",
        "    print(\"\\nNouns:\", nouns)\n",
        "    print(\"Verbs:\", verbs)\n",
        "    print(\"Adjectives:\", adjectives)"
      ]
    }
  ]
}